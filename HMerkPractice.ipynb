{
 "cells": [
  {
   "cell_type": "markdown",
   "id": "b07059cd-d8a0-4681-9ed3-d321c6f98b1f",
   "metadata": {},
   "source": [
    "# My Jupyter Notebook on IBM Watson Studio"
   ]
  },
  {
   "cell_type": "markdown",
   "id": "d071b750-5b73-4a8e-b756-99d5efc31f55",
   "metadata": {},
   "source": [
    "**Heather Merk** <br>Decision Science Lead"
   ]
  },
  {
   "cell_type": "markdown",
   "id": "ff955d9f-6c4b-455e-8225-86fc7375450d",
   "metadata": {},
   "source": [
    "*I am interested in data science because I enjoy working with data. I like looking for patterns in data, as well as outliers. In addition, I see data science as a powerful enabler for business competitiveness.*"
   ]
  },
  {
   "cell_type": "markdown",
   "id": "6943b218-a969-4d91-8eac-c3ae515d5b2c",
   "metadata": {},
   "source": [
    "### Add the numbers six and three"
   ]
  },
  {
   "cell_type": "code",
   "execution_count": 7,
   "id": "a790b904-69dd-4343-a61d-be51aebf1abd",
   "metadata": {},
   "outputs": [
    {
     "data": {
      "text/plain": [
       "9"
      ]
     },
     "execution_count": 7,
     "metadata": {},
     "output_type": "execute_result"
    }
   ],
   "source": [
    "6+3"
   ]
  },
  {
   "cell_type": "markdown",
   "id": "6132e3cb-04f5-488a-b06c-0b6d60cac52a",
   "metadata": {},
   "source": [
    "A list of skills associated with data science <br> - Data cleaning <br> - Data visualization <br> - Data modeling <br> A numbered list of my favorite activities <b> 1. Kayaking 2. Archery 3. Bocce Ball <b> __[Heather Merk LinkedIn](https://www.linkedin.com/in/heathermerk/)__  "
   ]
  },
  {
   "cell_type": "code",
   "execution_count": null,
   "id": "4f685525-2b08-44e1-9783-0f7d66e777dd",
   "metadata": {},
   "outputs": [],
   "source": []
  }
 ],
 "metadata": {
  "kernelspec": {
   "display_name": "Python",
   "language": "python",
   "name": "conda-env-python-py"
  },
  "language_info": {
   "codemirror_mode": {
    "name": "ipython",
    "version": 3
   },
   "file_extension": ".py",
   "mimetype": "text/x-python",
   "name": "python",
   "nbconvert_exporter": "python",
   "pygments_lexer": "ipython3",
   "version": "3.7.12"
  }
 },
 "nbformat": 4,
 "nbformat_minor": 5
}
